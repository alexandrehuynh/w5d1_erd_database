# Find Single Number
# Given a non-empty array of integers nums, every element appears 
# twice except for one. Find that single one.

# Example 1:
# Input: nums = [2,2,1]
# Output: 1

# Example 2:
# Input: nums = [4,1,2,1,2]
# Output: 4

# Example 3:
# Input: nums = [1]
# Output: 1


nums = [2,2,1]
nums2 = [4,1,2,1,2]
nums3 = [1]
nums4 = [10, 9, 8, 7, 6, 5, 4, 3, 2, 1, 1, 2, 3, 4, 5, 6, 7, 9, 10]


def no_dup(nums):
    """
        Time Complexity: O(n), as we iterate through the array and then the hash table (which has at most n keys).
        Space Complexity: O(n), for storing each element and its count in the hash table.
    """
    # Initialize an empty hash table
    count = {}
    # For each number in the array:
    for num in nums:
        # If number is not in hash table:
        if num not in count:
            # Add it to the hash table with count 1
            count[num] = 1
        # Else:
        elif num in count:
            # Increment its count
            count[num] += 1
    # For each entry in the hash table:
    for num, cnt in count.items():
        # If count is 1:
        if cnt == 1:
            # Return the number
            return num


print(no_dup(nums4))


def no_dup(nums):
    """
        Time Complexity: O(n), as we iterate through the array and then the hash table (which has at most n keys).
        Space Complexity: O(n), for storing each element and its count in the hash table.
    """
    # Initialize an empty hash table
    count = {}
    # For each number in the array:
    for num in nums:
        # If number is in hash table:
        count[num] = count.get (num, 0) + 1 # Increment its count
        # Else:
            # Add it to the hash table with count 1
    # For each entry in the hash table:
    for num, cnt in count.items():
        # If count is 1:
        if cnt == 1:
            # Return the number
            return num


print(no_dup(nums4))


def no_dup(nums):
    """
        Time Complexity: O(n^2), as count() takes O(n) and we do this for each of the n elements.
        Space Complexity: O(1), as no extra space is required.
    """
    
    # For each number in the array:
    for num in nums:
        # If the count of number in array is 1:
        if nums.count(num) == 1:
            # Return the number
            return num

print(no_dup(nums4))


def no_dup(nums):
    """
        Time Complexity: O(n), as we iterate through the array once.
        Space Complexity: O(1), as no extra space is used.
    """
    
    # Initialize result as 0
    result = 0
    # For each number in the array:
    for num in nums:
        # result = result XOR number
        result ^= num
    # Return result
    return result

print(no_dup(nums4))


def no_dup(nums):
    """
        Time Complexity: O(n^2), because searching for an element in a list takes O(n) and we do this for each of the n elements.
        Space Complexity: O(n), for the no_dup list.
    """
    
    # Initialize an empty list
    no_dup = []
    # For each number in the array:
    for num in nums:
        # If number is not in the list:
        if num not in no_dup:
            # Add it to the list
            no_dup.append(num)
        # Else:
        else:
            # Remove it from the list
            no_dup.remove(num)
    # Return the remaining element in the list
    return no_dup.pop()
    
print(no_dup(nums4))


def no_dup(nums):
    """
        Time Complexity: O(n log n), dominated by the sorting algorithm.
        Space Complexity: O(1), if using an in-place sort; otherwise O(n) for the space used by the sorting algorithm.
    """
    # Sort the array
    nums.sort()
    # For each number in the array with step 2:
    for i in range(0, len(nums) - 1, 2):
        # If the current number is not equal to the next:
        if nums[i] != nums[i +1]:
            # Return the current number
            return nums[i]
    # Return the last element (if not returned earlier)
    return nums[-1]

print(no_dup(nums4))

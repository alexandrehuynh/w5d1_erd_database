{
 "cells": [
  {
   "cell_type": "code",
   "execution_count": 1,
   "id": "4f5d078a-86b5-46aa-806e-2beae47d558a",
   "metadata": {},
   "outputs": [],
   "source": [
    "# Find Single Number\n",
    "# Given a non-empty array of integers nums, every element appears \n",
    "# twice except for one. Find that single one.\n",
    "\n",
    "# Example 1:\n",
    "# Input: nums = [2,2,1]\n",
    "# Output: 1\n",
    "\n",
    "# Example 2:\n",
    "# Input: nums = [4,1,2,1,2]\n",
    "# Output: 4\n",
    "\n",
    "# Example 3:\n",
    "# Input: nums = [1]\n",
    "# Output: 1"
   ]
  },
  {
   "cell_type": "code",
   "execution_count": 40,
   "id": "17f12eaf-fb42-43c0-859c-f2747463b1e8",
   "metadata": {},
   "outputs": [],
   "source": [
    "nums = [2,2,1]\n",
    "nums2 = [4,1,2,1,2]\n",
    "nums3 = [1]\n",
    "nums4 = [10, 9, 8, 7, 6, 5, 4, 3, 2, 1, 1, 2, 3, 4, 5, 6, 7, 9, 10]"
   ]
  },
  {
   "cell_type": "code",
   "execution_count": 49,
   "id": "a2fdc6c5-3480-411d-b147-857352f7cbd5",
   "metadata": {},
   "outputs": [
    {
     "name": "stdout",
     "output_type": "stream",
     "text": [
      "8\n"
     ]
    }
   ],
   "source": [
    "def no_dup(nums):\n",
    "    \"\"\"\n",
    "        Time Complexity: O(n), as we iterate through the array and then the hash table (which has at most n keys).\n",
    "        Space Complexity: O(n), for storing each element and its count in the hash table.\n",
    "    \"\"\"\n",
    "    # Initialize an empty hash table\n",
    "    count = {}\n",
    "    # For each number in the array:\n",
    "    for num in nums:\n",
    "        # If number is not in hash table:\n",
    "        if num not in count:\n",
    "            # Add it to the hash table with count 1\n",
    "            count[num] = 1\n",
    "        # Else:\n",
    "        elif num in count:\n",
    "            # Increment its count\n",
    "            count[num] += 1\n",
    "    # For each entry in the hash table:\n",
    "    for num, cnt in count.items():\n",
    "        # If count is 1:\n",
    "        if cnt == 1:\n",
    "            # Return the number\n",
    "            return num\n",
    "\n",
    "\n",
    "print(no_dup(nums4))"
   ]
  },
  {
   "cell_type": "code",
   "execution_count": 41,
   "id": "9e202f16-02cc-40a9-a10d-3fec93ccdd9f",
   "metadata": {},
   "outputs": [
    {
     "name": "stdout",
     "output_type": "stream",
     "text": [
      "8\n"
     ]
    }
   ],
   "source": [
    "def no_dup(nums):\n",
    "    \"\"\"\n",
    "        Time Complexity: O(n), as we iterate through the array and then the hash table (which has at most n keys).\n",
    "        Space Complexity: O(n), for storing each element and its count in the hash table.\n",
    "    \"\"\"\n",
    "    # Initialize an empty hash table\n",
    "    count = {}\n",
    "    # For each number in the array:\n",
    "    for num in nums:\n",
    "        # If number is in hash table:\n",
    "        count[num] = count.get (num, 0) + 1 # Increment its count\n",
    "        # Else:\n",
    "            # Add it to the hash table with count 1\n",
    "    # For each entry in the hash table:\n",
    "    for num, cnt in count.items():\n",
    "        # If count is 1:\n",
    "        if cnt == 1:\n",
    "            # Return the number\n",
    "            return num\n",
    "\n",
    "\n",
    "print(no_dup(nums4))"
   ]
  },
  {
   "cell_type": "code",
   "execution_count": 42,
   "id": "c93dcb3b-4d4e-4dda-9a8f-0441de081534",
   "metadata": {},
   "outputs": [
    {
     "name": "stdout",
     "output_type": "stream",
     "text": [
      "8\n"
     ]
    }
   ],
   "source": [
    "def no_dup(nums):\n",
    "    \"\"\"\n",
    "        Time Complexity: O(n^2), as count() takes O(n) and we do this for each of the n elements.\n",
    "        Space Complexity: O(1), as no extra space is required.\n",
    "    \"\"\"\n",
    "    \n",
    "    # For each number in the array:\n",
    "    for num in nums:\n",
    "        # If the count of number in array is 1:\n",
    "        if nums.count(num) == 1:\n",
    "            # Return the number\n",
    "            return num\n",
    "\n",
    "print(no_dup(nums4))"
   ]
  },
  {
   "cell_type": "code",
   "execution_count": 43,
   "id": "fa6dfa05-19b2-4b22-a9ef-a2ce0e753f9c",
   "metadata": {},
   "outputs": [
    {
     "name": "stdout",
     "output_type": "stream",
     "text": [
      "8\n"
     ]
    }
   ],
   "source": [
    "def no_dup(nums):\n",
    "    \"\"\"\n",
    "        Time Complexity: O(n), as we iterate through the array once.\n",
    "        Space Complexity: O(1), as no extra space is used.\n",
    "    \"\"\"\n",
    "    \n",
    "    # Initialize result as 0\n",
    "    result = 0\n",
    "    # For each number in the array:\n",
    "    for num in nums:\n",
    "        # result = result XOR number\n",
    "        result ^= num\n",
    "    # Return result\n",
    "    return result\n",
    "\n",
    "print(no_dup(nums4))"
   ]
  },
  {
   "cell_type": "code",
   "execution_count": 50,
   "id": "4b42ee69-9a75-420a-8cf4-2f1049d40c4d",
   "metadata": {},
   "outputs": [
    {
     "name": "stdout",
     "output_type": "stream",
     "text": [
      "8\n"
     ]
    }
   ],
   "source": [
    "def no_dup(nums):\n",
    "    \"\"\"\n",
    "        Time Complexity: O(n^2), because searching for an element in a list takes O(n) and we do this for each of the n elements.\n",
    "        Space Complexity: O(n), for the no_dup list.\n",
    "    \"\"\"\n",
    "    \n",
    "    # Initialize an empty list\n",
    "    no_dup = []\n",
    "    # For each number in the array:\n",
    "    for num in nums:\n",
    "        # If number is not in the list:\n",
    "        if num not in no_dup:\n",
    "            # Add it to the list\n",
    "            no_dup.append(num)\n",
    "        # Else:\n",
    "        else:\n",
    "            # Remove it from the list\n",
    "            no_dup.remove(num)\n",
    "    # Return the remaining element in the list\n",
    "    return no_dup.pop()\n",
    "    \n",
    "print(no_dup(nums4))"
   ]
  },
  {
   "cell_type": "code",
   "execution_count": 51,
   "id": "b260f607-f819-48b7-935e-e4eb63c4eb1c",
   "metadata": {},
   "outputs": [
    {
     "name": "stdout",
     "output_type": "stream",
     "text": [
      "8\n"
     ]
    }
   ],
   "source": [
    "def no_dup(nums):\n",
    "    \"\"\"\n",
    "        Time Complexity: O(n log n), dominated by the sorting algorithm.\n",
    "        Space Complexity: O(1), if using an in-place sort; otherwise O(n) for the space used by the sorting algorithm.\n",
    "    \"\"\"\n",
    "    # Sort the array\n",
    "    nums.sort()\n",
    "    # For each number in the array with step 2:\n",
    "    for i in range(0, len(nums) - 1, 2):\n",
    "        # If the current number is not equal to the next:\n",
    "        if nums[i] != nums[i +1]:\n",
    "            # Return the current number\n",
    "            return nums[i]\n",
    "    # Return the last element (if not returned earlier)\n",
    "    return nums[-1]\n",
    "\n",
    "print(no_dup(nums4))"
   ]
  }
 ],
 "metadata": {
  "kernelspec": {
   "display_name": "Python 3 (ipykernel)",
   "language": "python",
   "name": "python3"
  },
  "language_info": {
   "codemirror_mode": {
    "name": "ipython",
    "version": 3
   },
   "file_extension": ".py",
   "mimetype": "text/x-python",
   "name": "python",
   "nbconvert_exporter": "python",
   "pygments_lexer": "ipython3",
   "version": "3.11.7"
  }
 },
 "nbformat": 4,
 "nbformat_minor": 5
}
